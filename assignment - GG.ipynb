{
 "cells": [
  {
   "cell_type": "markdown",
   "metadata": {},
   "source": [
    "### LOADING LIBRARIES:"
   ]
  },
  {
   "cell_type": "code",
   "execution_count": 1,
   "metadata": {
    "collapsed": true
   },
   "outputs": [],
   "source": [
    "%matplotlib inline\n",
    "import numpy as np\n",
    "import scipy as sp\n",
    "import matplotlib as mpl\n",
    "import matplotlib.cm as cm\n",
    "import matplotlib.pyplot as plt\n",
    "import pandas as pd\n",
    "import time\n",
    "pd.set_option('display.width', 500)\n",
    "pd.set_option('display.max_columns', 100)\n",
    "pd.set_option('display.notebook_repr_html', True)\n",
    "import seaborn as sns\n",
    "sns.set_style(\"whitegrid\")\n",
    "sns.set_context(\"poster\")\n",
    "from datetime import datetime"
   ]
  },
  {
   "cell_type": "markdown",
   "metadata": {},
   "source": [
    "## LOADING THE LOG FILE INTO DATAFRAME."
   ]
  },
  {
   "cell_type": "code",
   "execution_count": 2,
   "metadata": {
    "collapsed": true
   },
   "outputs": [],
   "source": [
    "import json\n",
    "dict_main= {}\n",
    "main_list=[]\n",
    "with  open('ggevent.log') as f:\n",
    "    for line in f:\n",
    "        a=json.loads(line)\n",
    "        main_list.append(a)\n",
    "        \n",
    "df_analysis= pd.DataFrame()\n",
    "df_analysis['game_id']= list(map(lambda x:x['bottle']['game_id'], main_list))\n",
    "df_analysis['timestamp']= list(map(lambda x:x['bottle']['timestamp'], main_list))\n",
    "df_analysis['random']= list(map(lambda x:x['headers']['random'],main_list))\n",
    "df_analysis['sdkv']= list(map(lambda x:x['headers']['sdkv'],main_list))\n",
    "df_analysis['debug']= list(map(lambda x:x['headers']['debug'],main_list))\n",
    "df_analysis['ai5']= list(map(lambda x:x['headers']['ai5'],main_list))\n",
    "df_analysis['ts']= list(map(lambda x:x['post']['ts'],main_list))\n",
    "df_analysis['event']= list(map(lambda x:x['post']['event'],main_list))\n",
    "df_analysis['params']= list(map(lambda x:x['params'], main_list))"
   ]
  },
  {
   "cell_type": "code",
   "execution_count": 3,
   "metadata": {
    "collapsed": false
   },
   "outputs": [
    {
     "name": "stdout",
     "output_type": "stream",
     "text": [
      "<class 'pandas.core.frame.DataFrame'>\n",
      "Int64Index: 171721 entries, 0 to 171720\n",
      "Data columns (total 9 columns):\n",
      "game_id      171721 non-null object\n",
      "timestamp    171721 non-null object\n",
      "random       17792 non-null object\n",
      "sdkv         171721 non-null object\n",
      "debug        0 non-null object\n",
      "ai5          171721 non-null object\n",
      "ts           171721 non-null object\n",
      "event        171721 non-null object\n",
      "params       171721 non-null object\n",
      "dtypes: object(9)\n",
      "memory usage: 13.1+ MB\n"
     ]
    }
   ],
   "source": [
    "df_analysis.info()"
   ]
  },
  {
   "cell_type": "code",
   "execution_count": 4,
   "metadata": {
    "collapsed": false
   },
   "outputs": [
    {
     "data": {
      "text/html": [
       "<div>\n",
       "<table border=\"1\" class=\"dataframe\">\n",
       "  <thead>\n",
       "    <tr style=\"text-align: right;\">\n",
       "      <th></th>\n",
       "      <th>game_id</th>\n",
       "      <th>timestamp</th>\n",
       "      <th>random</th>\n",
       "      <th>sdkv</th>\n",
       "      <th>debug</th>\n",
       "      <th>ai5</th>\n",
       "      <th>ts</th>\n",
       "      <th>event</th>\n",
       "      <th>params</th>\n",
       "    </tr>\n",
       "  </thead>\n",
       "  <tbody>\n",
       "    <tr>\n",
       "      <th>0</th>\n",
       "      <td>55107008</td>\n",
       "      <td>2016-05-09 02:00:00.004906</td>\n",
       "      <td>None</td>\n",
       "      <td>7.6</td>\n",
       "      <td>None</td>\n",
       "      <td>8fa683e59c02c04cb781ac689686db07</td>\n",
       "      <td>1462759195259</td>\n",
       "      <td>ggstart</td>\n",
       "      <td>{}</td>\n",
       "    </tr>\n",
       "    <tr>\n",
       "      <th>1</th>\n",
       "      <td>55107008</td>\n",
       "      <td>2016-05-09 02:00:00.033775</td>\n",
       "      <td>None</td>\n",
       "      <td>7.6</td>\n",
       "      <td>None</td>\n",
       "      <td>335644267c1d5f04eaea7bc6f51b1861</td>\n",
       "      <td>1462759189745</td>\n",
       "      <td>ggstart</td>\n",
       "      <td>{}</td>\n",
       "    </tr>\n",
       "    <tr>\n",
       "      <th>2</th>\n",
       "      <td>55107008</td>\n",
       "      <td>2016-05-09 02:00:00.036721</td>\n",
       "      <td>None</td>\n",
       "      <td>7.6</td>\n",
       "      <td>None</td>\n",
       "      <td>ca3071aad676bc963795a2b09635cdf0</td>\n",
       "      <td>1462768152242</td>\n",
       "      <td>ggstop</td>\n",
       "      <td>{}</td>\n",
       "    </tr>\n",
       "    <tr>\n",
       "      <th>3</th>\n",
       "      <td>10655437</td>\n",
       "      <td>2016-05-09 02:00:00.041006</td>\n",
       "      <td>None</td>\n",
       "      <td>7.5.1</td>\n",
       "      <td>None</td>\n",
       "      <td>17412dec7d3d02c9b0b1c3d1c3571c5c</td>\n",
       "      <td>1462759193807</td>\n",
       "      <td>ggstop</td>\n",
       "      <td>{}</td>\n",
       "    </tr>\n",
       "    <tr>\n",
       "      <th>4</th>\n",
       "      <td>55107008</td>\n",
       "      <td>2016-05-09 02:00:00.074181</td>\n",
       "      <td>None</td>\n",
       "      <td>7.6</td>\n",
       "      <td>None</td>\n",
       "      <td>f81167c854f1a0c86cab6188f9995824</td>\n",
       "      <td>1462759191063</td>\n",
       "      <td>ggstart</td>\n",
       "      <td>{}</td>\n",
       "    </tr>\n",
       "  </tbody>\n",
       "</table>\n",
       "</div>"
      ],
      "text/plain": [
       "    game_id                   timestamp random   sdkv debug                               ai5             ts    event params\n",
       "0  55107008  2016-05-09 02:00:00.004906   None    7.6  None  8fa683e59c02c04cb781ac689686db07  1462759195259  ggstart     {}\n",
       "1  55107008  2016-05-09 02:00:00.033775   None    7.6  None  335644267c1d5f04eaea7bc6f51b1861  1462759189745  ggstart     {}\n",
       "2  55107008  2016-05-09 02:00:00.036721   None    7.6  None  ca3071aad676bc963795a2b09635cdf0  1462768152242   ggstop     {}\n",
       "3  10655437  2016-05-09 02:00:00.041006   None  7.5.1  None  17412dec7d3d02c9b0b1c3d1c3571c5c  1462759193807   ggstop     {}\n",
       "4  55107008  2016-05-09 02:00:00.074181   None    7.6  None  f81167c854f1a0c86cab6188f9995824  1462759191063  ggstart     {}"
      ]
     },
     "execution_count": 4,
     "metadata": {},
     "output_type": "execute_result"
    }
   ],
   "source": [
    "df_analysis.head()"
   ]
  },
  {
   "cell_type": "markdown",
   "metadata": {},
   "source": [
    "### Removing the columns we don't require for problem statement."
   ]
  },
  {
   "cell_type": "code",
   "execution_count": 6,
   "metadata": {
    "collapsed": true
   },
   "outputs": [],
   "source": [
    "df_analysis= df_analysis.drop(['debug','params','random','sdkv','ts'], axis=1)"
   ]
  },
  {
   "cell_type": "markdown",
   "metadata": {},
   "source": [
    "### Converting time into datetimeformat\n"
   ]
  },
  {
   "cell_type": "code",
   "execution_count": 7,
   "metadata": {
    "collapsed": true
   },
   "outputs": [],
   "source": [
    "from datetime import datetime\n",
    "df_analysis.timestamp= df_analysis.timestamp.apply(lambda x:datetime.strptime(x, \"%Y-%m-%d %H:%M:%S.%f\"))"
   ]
  },
  {
   "cell_type": "code",
   "execution_count": 8,
   "metadata": {
    "collapsed": false
   },
   "outputs": [
    {
     "data": {
      "text/html": [
       "<div>\n",
       "<table border=\"1\" class=\"dataframe\">\n",
       "  <thead>\n",
       "    <tr style=\"text-align: right;\">\n",
       "      <th></th>\n",
       "      <th>game_id</th>\n",
       "      <th>timestamp</th>\n",
       "      <th>ai5</th>\n",
       "      <th>event</th>\n",
       "    </tr>\n",
       "  </thead>\n",
       "  <tbody>\n",
       "    <tr>\n",
       "      <th>0</th>\n",
       "      <td>55107008</td>\n",
       "      <td>2016-05-09 02:00:00.004906</td>\n",
       "      <td>8fa683e59c02c04cb781ac689686db07</td>\n",
       "      <td>ggstart</td>\n",
       "    </tr>\n",
       "    <tr>\n",
       "      <th>1</th>\n",
       "      <td>55107008</td>\n",
       "      <td>2016-05-09 02:00:00.033775</td>\n",
       "      <td>335644267c1d5f04eaea7bc6f51b1861</td>\n",
       "      <td>ggstart</td>\n",
       "    </tr>\n",
       "  </tbody>\n",
       "</table>\n",
       "</div>"
      ],
      "text/plain": [
       "    game_id                  timestamp                               ai5    event\n",
       "0  55107008 2016-05-09 02:00:00.004906  8fa683e59c02c04cb781ac689686db07  ggstart\n",
       "1  55107008 2016-05-09 02:00:00.033775  335644267c1d5f04eaea7bc6f51b1861  ggstart"
      ]
     },
     "execution_count": 8,
     "metadata": {},
     "output_type": "execute_result"
    }
   ],
   "source": [
    "df_analysis.head(2)"
   ]
  },
  {
   "cell_type": "code",
   "execution_count": 25,
   "metadata": {
    "collapsed": false
   },
   "outputs": [],
   "source": [
    "def calc(df_analysis_y):\n",
    "    df_analysis_y.loc[:,'diff_in_time'] = df_analysis_y.timestamp.shift(-1)- df_analysis_y.timestamp\n",
    "    df_analysis_y.diff_in_time= df_analysis_y.diff_in_time.fillna(0)\n",
    "    df_analysis_y.loc[:,'session_time_elapsed']= 0\n",
    "    df_analysis_y.loc[:,'avg_sessions_poss']= 0\n",
    "    df_analysis_y.loc[:,'sec_diff_in_ggstop_ggstart']=0\n",
    "    df_analysis_y.loc[:,'event_shifted']= df_analysis_y.event.shift(-1)\n",
    "    df_analysis_y.event_shifted = df_analysis_y.event_shifted.fillna(0)\n",
    "    for index,event, event_shifted,diff_in_time in zip(df_analysis_y.index.values, df_analysis_y.event.values, df_analysis_y.event_shifted.values,df_analysis_y.diff_in_time.values):\n",
    "        if (event =='ggstop' and event_shifted == 'ggstart' and float(diff_in_time*(10**(-9)))>=30.0):\n",
    "            df_analysis_y.loc[index, ['avg_sessions_poss']]= 1\n",
    "            df_analysis_y.loc[index,'sec_diff_in_ggstop_ggstart']= float(diff_in_time*(10**(-9)))\n",
    "\n",
    "        elif (event =='ggstop' and event_shifted == 'ggstart' and float(diff_in_time*(10**(-9)))<30.0):\n",
    "            df_analysis_y.loc[index,'sec_diff_in_ggstop_ggstart']= float(diff_in_time*(10**(-9)))\n",
    "        elif (event =='ggstart' and event_shifted== 'ggstop'):\n",
    "            df_analysis_y.loc[index,'session_time_elapsed']= float(diff_in_time*(10**(-9)))\n",
    "    total_time_for_present_session=0\n",
    "    list_valid_session_times= []\n",
    "    avg_value_start_stop= np.mean(df_analysis_y.session_time_elapsed.values)\n",
    "    for index,event,event_shifted,diff_in_time in zip(df_analysis_y.index.values, df_analysis_y.event.values, df_analysis_y.event_shifted.values,df_analysis_y.diff_in_time.values):\n",
    "        if (event== 'ggstart' and event_shifted== 'ggstop'):\n",
    "            total_time_for_present_session += float(diff_in_time*(10**(-9)))\n",
    "\n",
    "        elif (event== 'ggstop' and event_shifted== 'ggstop' and float(diff_in_time*(10**(-9)))>(30.0+avg_value_start_stop)):\n",
    "            if total_time_for_present_session>60.0:\n",
    "                df_analysis_y.loc[index,'avg_sessions_poss'] = 1\n",
    "                list_valid_session_times.append(total_time_for_present_session)\n",
    "                total_time_for_present_session=0\n",
    "            else :\n",
    "                total_time_for_present_session=0\n",
    "                total_time_for_present_session= avg_value_start_stop\n",
    "\n",
    "        elif (event=='ggstop' and event_shifted== 'ggstop' and float(diff_in_time*(10**(-9)))<(30.0+avg_value_start_stop)):\n",
    "            total_time_for_present_session= total_time_for_present_session + float(diff_in_time*(10**(-9)))\n",
    "\n",
    "\n",
    "        elif (event== 'ggstart' and event_shifted== 'ggstart' and float(diff_in_time*(10**(-9)))>(30.0+avg_value_start_stop)):\n",
    "            total_time_for_present_session= total_time_for_present_session+ avg_value_start_stop\n",
    "            if total_time_for_present_session>60.0:\n",
    "                list_valid_session_times.append(total_time_for_present_session)\n",
    "                #print(event,event_shifted,total_time_for_present_session,'more')\n",
    "                total_time_for_present_session=0\n",
    "                df_analysis_y.loc[index,'avg_sessions_poss'] = 1\n",
    "            else:\n",
    "                total_time_for_present_session=0\n",
    "\n",
    "        elif (event=='ggstart' and event_shifted== 'ggstart' and float(diff_in_time*(10**(-9)))<(30.0+avg_value_start_stop)):\n",
    "            total_time_for_present_session = total_time_for_present_session + float(diff_in_time*(10**(-9)))/2\n",
    "            #print(event,event_shifted,total_time_for_present_session)\n",
    "\n",
    "\n",
    "\n",
    "        elif (event== 'ggstop' and event_shifted== 'ggstart' and float(diff_in_time*(10**(-9)))>30.0):\n",
    "            if total_time_for_present_session>60.0:\n",
    "                list_valid_session_times.append(total_time_for_present_session)\n",
    "                #print(event,event_shifted,total_time_for_present_session,'more')\n",
    "                total_time_for_present_session=0\n",
    "            else :\n",
    "                total_time_for_present_session=0\n",
    "\n",
    "        if (total_time_for_present_session>60.0 and index== df_analysis_y.index.values[-1]):\n",
    "            list_valid_session_times.append(total_time_for_present_session)\n",
    "            #print(event,event_shifted,total_time_for_present_session,'nothing')\n",
    "\n",
    "    return list_valid_session_times\n"
   ]
  },
  {
   "cell_type": "markdown",
   "metadata": {},
   "source": [
    "## Let's test our code with few examples:"
   ]
  },
  {
   "cell_type": "code",
   "execution_count": 17,
   "metadata": {
    "collapsed": false
   },
   "outputs": [
    {
     "name": "stdout",
     "output_type": "stream",
     "text": [
      "['55107008' '10655437' '30900473' '18121481' '32950170' '43346372'\n",
      " '19049241' '10483946' '40904844' '67544688' '63960431' '21554188'\n",
      " '60374084' '98010070' '85159873' '82196685' '94868282' '35643983'\n",
      " '26962869' '59561974']\n",
      "20\n"
     ]
    }
   ],
   "source": [
    "print(df_analysis.game_id.unique())\n",
    "print(len(df_analysis.game_id.unique()))"
   ]
  },
  {
   "cell_type": "code",
   "execution_count": 18,
   "metadata": {
    "collapsed": false
   },
   "outputs": [
    {
     "name": "stdout",
     "output_type": "stream",
     "text": [
      "['8fa683e59c02c04cb781ac689686db07' '335644267c1d5f04eaea7bc6f51b1861'\n",
      " 'ca3071aad676bc963795a2b09635cdf0' ..., 'e1539460c05843b5ab17478d79edf072'\n",
      " '77abb14b6ad93efb332b7553795d3009' 'd5dee568ebd06e1183c6926bc5ec4124']\n",
      "17419\n"
     ]
    }
   ],
   "source": [
    "print(df_analysis.ai5.unique())\n",
    "print(len(df_analysis.ai5.unique()))"
   ]
  },
  {
   "cell_type": "code",
   "execution_count": 37,
   "metadata": {
    "collapsed": false
   },
   "outputs": [
    {
     "data": {
      "text/html": [
       "<div>\n",
       "<table border=\"1\" class=\"dataframe\">\n",
       "  <thead>\n",
       "    <tr style=\"text-align: right;\">\n",
       "      <th></th>\n",
       "      <th>game_id</th>\n",
       "      <th>timestamp</th>\n",
       "      <th>ai5</th>\n",
       "      <th>event</th>\n",
       "    </tr>\n",
       "  </thead>\n",
       "  <tbody>\n",
       "    <tr>\n",
       "      <th>0</th>\n",
       "      <td>55107008</td>\n",
       "      <td>2016-05-09 02:00:00.004906</td>\n",
       "      <td>8fa683e59c02c04cb781ac689686db07</td>\n",
       "      <td>ggstart</td>\n",
       "    </tr>\n",
       "    <tr>\n",
       "      <th>1</th>\n",
       "      <td>55107008</td>\n",
       "      <td>2016-05-09 02:00:00.033775</td>\n",
       "      <td>335644267c1d5f04eaea7bc6f51b1861</td>\n",
       "      <td>ggstart</td>\n",
       "    </tr>\n",
       "    <tr>\n",
       "      <th>2</th>\n",
       "      <td>55107008</td>\n",
       "      <td>2016-05-09 02:00:00.036721</td>\n",
       "      <td>ca3071aad676bc963795a2b09635cdf0</td>\n",
       "      <td>ggstop</td>\n",
       "    </tr>\n",
       "    <tr>\n",
       "      <th>3</th>\n",
       "      <td>10655437</td>\n",
       "      <td>2016-05-09 02:00:00.041006</td>\n",
       "      <td>17412dec7d3d02c9b0b1c3d1c3571c5c</td>\n",
       "      <td>ggstop</td>\n",
       "    </tr>\n",
       "    <tr>\n",
       "      <th>4</th>\n",
       "      <td>55107008</td>\n",
       "      <td>2016-05-09 02:00:00.074181</td>\n",
       "      <td>f81167c854f1a0c86cab6188f9995824</td>\n",
       "      <td>ggstart</td>\n",
       "    </tr>\n",
       "    <tr>\n",
       "      <th>5</th>\n",
       "      <td>10655437</td>\n",
       "      <td>2016-05-09 02:00:00.084916</td>\n",
       "      <td>17412dec7d3d02c9b0b1c3d1c3571c5c</td>\n",
       "      <td>ggstart</td>\n",
       "    </tr>\n",
       "    <tr>\n",
       "      <th>6</th>\n",
       "      <td>30900473</td>\n",
       "      <td>2016-05-09 02:00:00.093961</td>\n",
       "      <td>a2659df45c8d05f326225fa5b1063ac9</td>\n",
       "      <td>ggstart</td>\n",
       "    </tr>\n",
       "    <tr>\n",
       "      <th>7</th>\n",
       "      <td>18121481</td>\n",
       "      <td>2016-05-09 02:00:00.099308</td>\n",
       "      <td>b8bbef76f8dfee2fe190a283cd5a19a7</td>\n",
       "      <td>ggstart</td>\n",
       "    </tr>\n",
       "    <tr>\n",
       "      <th>8</th>\n",
       "      <td>18121481</td>\n",
       "      <td>2016-05-09 02:00:00.105905</td>\n",
       "      <td>e8ebfc3f39512eda3aa0702b13ffed63</td>\n",
       "      <td>ggstart</td>\n",
       "    </tr>\n",
       "    <tr>\n",
       "      <th>9</th>\n",
       "      <td>55107008</td>\n",
       "      <td>2016-05-09 02:00:00.156922</td>\n",
       "      <td>988e4873861347113519fbee6dd1c3b0</td>\n",
       "      <td>ggstart</td>\n",
       "    </tr>\n",
       "    <tr>\n",
       "      <th>10</th>\n",
       "      <td>55107008</td>\n",
       "      <td>2016-05-09 02:00:00.241238</td>\n",
       "      <td>583361d66ad8b0827cd08d3a5d64af89</td>\n",
       "      <td>ggstop</td>\n",
       "    </tr>\n",
       "    <tr>\n",
       "      <th>11</th>\n",
       "      <td>55107008</td>\n",
       "      <td>2016-05-09 02:00:00.306023</td>\n",
       "      <td>d775dbe1ca0e2610ae5505e7f489ece0</td>\n",
       "      <td>ggstart</td>\n",
       "    </tr>\n",
       "    <tr>\n",
       "      <th>12</th>\n",
       "      <td>55107008</td>\n",
       "      <td>2016-05-09 02:00:00.380952</td>\n",
       "      <td>ed278fbc0dc987010e0262260cf39e16</td>\n",
       "      <td>ggstart</td>\n",
       "    </tr>\n",
       "    <tr>\n",
       "      <th>13</th>\n",
       "      <td>55107008</td>\n",
       "      <td>2016-05-09 02:00:00.413781</td>\n",
       "      <td>5593edde722a92a27a8cd6c6df646a2b</td>\n",
       "      <td>ggstop</td>\n",
       "    </tr>\n",
       "    <tr>\n",
       "      <th>14</th>\n",
       "      <td>55107008</td>\n",
       "      <td>2016-05-09 02:00:00.435793</td>\n",
       "      <td>96d2d9897d3e9a6da64e3db3f6143042</td>\n",
       "      <td>ggstart</td>\n",
       "    </tr>\n",
       "  </tbody>\n",
       "</table>\n",
       "</div>"
      ],
      "text/plain": [
       "     game_id                  timestamp                               ai5    event\n",
       "0   55107008 2016-05-09 02:00:00.004906  8fa683e59c02c04cb781ac689686db07  ggstart\n",
       "1   55107008 2016-05-09 02:00:00.033775  335644267c1d5f04eaea7bc6f51b1861  ggstart\n",
       "2   55107008 2016-05-09 02:00:00.036721  ca3071aad676bc963795a2b09635cdf0   ggstop\n",
       "3   10655437 2016-05-09 02:00:00.041006  17412dec7d3d02c9b0b1c3d1c3571c5c   ggstop\n",
       "4   55107008 2016-05-09 02:00:00.074181  f81167c854f1a0c86cab6188f9995824  ggstart\n",
       "5   10655437 2016-05-09 02:00:00.084916  17412dec7d3d02c9b0b1c3d1c3571c5c  ggstart\n",
       "6   30900473 2016-05-09 02:00:00.093961  a2659df45c8d05f326225fa5b1063ac9  ggstart\n",
       "7   18121481 2016-05-09 02:00:00.099308  b8bbef76f8dfee2fe190a283cd5a19a7  ggstart\n",
       "8   18121481 2016-05-09 02:00:00.105905  e8ebfc3f39512eda3aa0702b13ffed63  ggstart\n",
       "9   55107008 2016-05-09 02:00:00.156922  988e4873861347113519fbee6dd1c3b0  ggstart\n",
       "10  55107008 2016-05-09 02:00:00.241238  583361d66ad8b0827cd08d3a5d64af89   ggstop\n",
       "11  55107008 2016-05-09 02:00:00.306023  d775dbe1ca0e2610ae5505e7f489ece0  ggstart\n",
       "12  55107008 2016-05-09 02:00:00.380952  ed278fbc0dc987010e0262260cf39e16  ggstart\n",
       "13  55107008 2016-05-09 02:00:00.413781  5593edde722a92a27a8cd6c6df646a2b   ggstop\n",
       "14  55107008 2016-05-09 02:00:00.435793  96d2d9897d3e9a6da64e3db3f6143042  ggstart"
      ]
     },
     "execution_count": 37,
     "metadata": {},
     "output_type": "execute_result"
    }
   ],
   "source": [
    "df_analysis.head(15)"
   ]
  },
  {
   "cell_type": "markdown",
   "metadata": {},
   "source": [
    "set1= ['55107008','335644267c1d5f04eaea7bc6f51b1861']\n",
    "\n",
    "\n",
    "set2= ['10655437','17412dec7d3d02c9b0b1c3d1c3571c5c']\n",
    "\n",
    "\n",
    "set3= ['18121481','e8ebfc3f39512eda3aa0702b13ffed63']"
   ]
  },
  {
   "cell_type": "code",
   "execution_count": 20,
   "metadata": {
    "collapsed": false
   },
   "outputs": [],
   "source": [
    "df_set1= df_analysis[(df_analysis.game_id=='55107008')&(df_analysis.ai5=='335644267c1d5f04eaea7bc6f51b1861')]"
   ]
  },
  {
   "cell_type": "code",
   "execution_count": 26,
   "metadata": {
    "collapsed": false
   },
   "outputs": [
    {
     "name": "stderr",
     "output_type": "stream",
     "text": [
      "//anaconda/lib/python3.5/site-packages/pandas/core/indexing.py:426: SettingWithCopyWarning: \n",
      "A value is trying to be set on a copy of a slice from a DataFrame.\n",
      "Try using .loc[row_indexer,col_indexer] = value instead\n",
      "\n",
      "See the caveats in the documentation: http://pandas.pydata.org/pandas-docs/stable/indexing.html#indexing-view-versus-copy\n",
      "  self.obj[item] = s\n",
      "//anaconda/lib/python3.5/site-packages/pandas/core/generic.py:2387: SettingWithCopyWarning: \n",
      "A value is trying to be set on a copy of a slice from a DataFrame.\n",
      "Try using .loc[row_indexer,col_indexer] = value instead\n",
      "\n",
      "See the caveats in the documentation: http://pandas.pydata.org/pandas-docs/stable/indexing.html#indexing-view-versus-copy\n",
      "  self[name] = value\n"
     ]
    },
    {
     "data": {
      "text/plain": [
       "[136.0, 125.0, 659.0, 421.0, 137.0]"
      ]
     },
     "execution_count": 26,
     "metadata": {},
     "output_type": "execute_result"
    }
   ],
   "source": [
    "calc(df_set1)"
   ]
  },
  {
   "cell_type": "code",
   "execution_count": 27,
   "metadata": {
    "collapsed": false,
    "scrolled": true
   },
   "outputs": [
    {
     "data": {
      "text/html": [
       "<div>\n",
       "<table border=\"1\" class=\"dataframe\">\n",
       "  <thead>\n",
       "    <tr style=\"text-align: right;\">\n",
       "      <th></th>\n",
       "      <th>game_id</th>\n",
       "      <th>timestamp</th>\n",
       "      <th>ai5</th>\n",
       "      <th>event</th>\n",
       "      <th>diff_in_time</th>\n",
       "      <th>session_time_elapsed</th>\n",
       "      <th>avg_sessions_poss</th>\n",
       "      <th>sec_diff_in_ggstop_ggstart</th>\n",
       "      <th>event_shifted</th>\n",
       "    </tr>\n",
       "  </thead>\n",
       "  <tbody>\n",
       "    <tr>\n",
       "      <th>1</th>\n",
       "      <td>55107008</td>\n",
       "      <td>2016-05-09 02:00:00.033775</td>\n",
       "      <td>335644267c1d5f04eaea7bc6f51b1861</td>\n",
       "      <td>ggstart</td>\n",
       "      <td>00:02:16.372923</td>\n",
       "      <td>136</td>\n",
       "      <td>0</td>\n",
       "      <td>0</td>\n",
       "      <td>ggstop</td>\n",
       "    </tr>\n",
       "    <tr>\n",
       "      <th>5180</th>\n",
       "      <td>55107008</td>\n",
       "      <td>2016-05-09 02:02:16.406698</td>\n",
       "      <td>335644267c1d5f04eaea7bc6f51b1861</td>\n",
       "      <td>ggstop</td>\n",
       "      <td>00:02:16.788751</td>\n",
       "      <td>0</td>\n",
       "      <td>1</td>\n",
       "      <td>136</td>\n",
       "      <td>ggstart</td>\n",
       "    </tr>\n",
       "    <tr>\n",
       "      <th>10790</th>\n",
       "      <td>55107008</td>\n",
       "      <td>2016-05-09 02:04:33.195449</td>\n",
       "      <td>335644267c1d5f04eaea7bc6f51b1861</td>\n",
       "      <td>ggstart</td>\n",
       "      <td>00:02:05.020421</td>\n",
       "      <td>125</td>\n",
       "      <td>0</td>\n",
       "      <td>0</td>\n",
       "      <td>ggstop</td>\n",
       "    </tr>\n",
       "    <tr>\n",
       "      <th>15833</th>\n",
       "      <td>55107008</td>\n",
       "      <td>2016-05-09 02:06:38.215870</td>\n",
       "      <td>335644267c1d5f04eaea7bc6f51b1861</td>\n",
       "      <td>ggstop</td>\n",
       "      <td>00:01:39.092569</td>\n",
       "      <td>0</td>\n",
       "      <td>1</td>\n",
       "      <td>99</td>\n",
       "      <td>ggstart</td>\n",
       "    </tr>\n",
       "    <tr>\n",
       "      <th>19808</th>\n",
       "      <td>55107008</td>\n",
       "      <td>2016-05-09 02:08:17.308439</td>\n",
       "      <td>335644267c1d5f04eaea7bc6f51b1861</td>\n",
       "      <td>ggstart</td>\n",
       "      <td>00:00:05.610737</td>\n",
       "      <td>0</td>\n",
       "      <td>0</td>\n",
       "      <td>0</td>\n",
       "      <td>ggstart</td>\n",
       "    </tr>\n",
       "    <tr>\n",
       "      <th>20070</th>\n",
       "      <td>55107008</td>\n",
       "      <td>2016-05-09 02:08:22.919176</td>\n",
       "      <td>335644267c1d5f04eaea7bc6f51b1861</td>\n",
       "      <td>ggstart</td>\n",
       "      <td>00:09:03.505822</td>\n",
       "      <td>543</td>\n",
       "      <td>0</td>\n",
       "      <td>0</td>\n",
       "      <td>ggstop</td>\n",
       "    </tr>\n",
       "    <tr>\n",
       "      <th>43124</th>\n",
       "      <td>55107008</td>\n",
       "      <td>2016-05-09 02:17:26.424998</td>\n",
       "      <td>335644267c1d5f04eaea7bc6f51b1861</td>\n",
       "      <td>ggstop</td>\n",
       "      <td>00:00:04.750527</td>\n",
       "      <td>0</td>\n",
       "      <td>0</td>\n",
       "      <td>4</td>\n",
       "      <td>ggstart</td>\n",
       "    </tr>\n",
       "    <tr>\n",
       "      <th>43347</th>\n",
       "      <td>55107008</td>\n",
       "      <td>2016-05-09 02:17:31.175525</td>\n",
       "      <td>335644267c1d5f04eaea7bc6f51b1861</td>\n",
       "      <td>ggstart</td>\n",
       "      <td>00:07:59.407296</td>\n",
       "      <td>0</td>\n",
       "      <td>1</td>\n",
       "      <td>0</td>\n",
       "      <td>ggstart</td>\n",
       "    </tr>\n",
       "    <tr>\n",
       "      <th>64832</th>\n",
       "      <td>55107008</td>\n",
       "      <td>2016-05-09 02:25:30.582821</td>\n",
       "      <td>335644267c1d5f04eaea7bc6f51b1861</td>\n",
       "      <td>ggstart</td>\n",
       "      <td>00:07:01.527036</td>\n",
       "      <td>421</td>\n",
       "      <td>0</td>\n",
       "      <td>0</td>\n",
       "      <td>ggstop</td>\n",
       "    </tr>\n",
       "    <tr>\n",
       "      <th>84602</th>\n",
       "      <td>55107008</td>\n",
       "      <td>2016-05-09 02:32:32.109857</td>\n",
       "      <td>335644267c1d5f04eaea7bc6f51b1861</td>\n",
       "      <td>ggstop</td>\n",
       "      <td>00:04:37.308923</td>\n",
       "      <td>0</td>\n",
       "      <td>1</td>\n",
       "      <td>277</td>\n",
       "      <td>ggstart</td>\n",
       "    </tr>\n",
       "    <tr>\n",
       "      <th>98132</th>\n",
       "      <td>55107008</td>\n",
       "      <td>2016-05-09 02:37:09.418780</td>\n",
       "      <td>335644267c1d5f04eaea7bc6f51b1861</td>\n",
       "      <td>ggstart</td>\n",
       "      <td>00:02:17.067736</td>\n",
       "      <td>137</td>\n",
       "      <td>0</td>\n",
       "      <td>0</td>\n",
       "      <td>ggstop</td>\n",
       "    </tr>\n",
       "    <tr>\n",
       "      <th>104983</th>\n",
       "      <td>55107008</td>\n",
       "      <td>2016-05-09 02:39:26.486516</td>\n",
       "      <td>335644267c1d5f04eaea7bc6f51b1861</td>\n",
       "      <td>ggstop</td>\n",
       "      <td>00:00:00</td>\n",
       "      <td>0</td>\n",
       "      <td>0</td>\n",
       "      <td>0</td>\n",
       "      <td>0</td>\n",
       "    </tr>\n",
       "  </tbody>\n",
       "</table>\n",
       "</div>"
      ],
      "text/plain": [
       "         game_id                  timestamp                               ai5    event    diff_in_time  session_time_elapsed  avg_sessions_poss  sec_diff_in_ggstop_ggstart event_shifted\n",
       "1       55107008 2016-05-09 02:00:00.033775  335644267c1d5f04eaea7bc6f51b1861  ggstart 00:02:16.372923                   136                  0                           0        ggstop\n",
       "5180    55107008 2016-05-09 02:02:16.406698  335644267c1d5f04eaea7bc6f51b1861   ggstop 00:02:16.788751                     0                  1                         136       ggstart\n",
       "10790   55107008 2016-05-09 02:04:33.195449  335644267c1d5f04eaea7bc6f51b1861  ggstart 00:02:05.020421                   125                  0                           0        ggstop\n",
       "15833   55107008 2016-05-09 02:06:38.215870  335644267c1d5f04eaea7bc6f51b1861   ggstop 00:01:39.092569                     0                  1                          99       ggstart\n",
       "19808   55107008 2016-05-09 02:08:17.308439  335644267c1d5f04eaea7bc6f51b1861  ggstart 00:00:05.610737                     0                  0                           0       ggstart\n",
       "20070   55107008 2016-05-09 02:08:22.919176  335644267c1d5f04eaea7bc6f51b1861  ggstart 00:09:03.505822                   543                  0                           0        ggstop\n",
       "43124   55107008 2016-05-09 02:17:26.424998  335644267c1d5f04eaea7bc6f51b1861   ggstop 00:00:04.750527                     0                  0                           4       ggstart\n",
       "43347   55107008 2016-05-09 02:17:31.175525  335644267c1d5f04eaea7bc6f51b1861  ggstart 00:07:59.407296                     0                  1                           0       ggstart\n",
       "64832   55107008 2016-05-09 02:25:30.582821  335644267c1d5f04eaea7bc6f51b1861  ggstart 00:07:01.527036                   421                  0                           0        ggstop\n",
       "84602   55107008 2016-05-09 02:32:32.109857  335644267c1d5f04eaea7bc6f51b1861   ggstop 00:04:37.308923                     0                  1                         277       ggstart\n",
       "98132   55107008 2016-05-09 02:37:09.418780  335644267c1d5f04eaea7bc6f51b1861  ggstart 00:02:17.067736                   137                  0                           0        ggstop\n",
       "104983  55107008 2016-05-09 02:39:26.486516  335644267c1d5f04eaea7bc6f51b1861   ggstop        00:00:00                     0                  0                           0             0"
      ]
     },
     "execution_count": 27,
     "metadata": {},
     "output_type": "execute_result"
    }
   ],
   "source": [
    "df_set1"
   ]
  },
  {
   "cell_type": "code",
   "execution_count": 38,
   "metadata": {
    "collapsed": true
   },
   "outputs": [],
   "source": [
    "#set2= ['10483946','ca3071aad676bc963795a2b09635cdf0']\n",
    "df_set2= df_analysis[(df_analysis.game_id=='10655437')&(df_analysis.ai5=='17412dec7d3d02c9b0b1c3d1c3571c5c')]"
   ]
  },
  {
   "cell_type": "code",
   "execution_count": 39,
   "metadata": {
    "collapsed": false
   },
   "outputs": [
    {
     "data": {
      "text/html": [
       "<div>\n",
       "<table border=\"1\" class=\"dataframe\">\n",
       "  <thead>\n",
       "    <tr style=\"text-align: right;\">\n",
       "      <th></th>\n",
       "      <th>game_id</th>\n",
       "      <th>timestamp</th>\n",
       "      <th>ai5</th>\n",
       "      <th>event</th>\n",
       "    </tr>\n",
       "  </thead>\n",
       "  <tbody>\n",
       "    <tr>\n",
       "      <th>3</th>\n",
       "      <td>10655437</td>\n",
       "      <td>2016-05-09 02:00:00.041006</td>\n",
       "      <td>17412dec7d3d02c9b0b1c3d1c3571c5c</td>\n",
       "      <td>ggstop</td>\n",
       "    </tr>\n",
       "    <tr>\n",
       "      <th>5</th>\n",
       "      <td>10655437</td>\n",
       "      <td>2016-05-09 02:00:00.084916</td>\n",
       "      <td>17412dec7d3d02c9b0b1c3d1c3571c5c</td>\n",
       "      <td>ggstart</td>\n",
       "    </tr>\n",
       "    <tr>\n",
       "      <th>3275</th>\n",
       "      <td>10655437</td>\n",
       "      <td>2016-05-09 02:01:25.783037</td>\n",
       "      <td>17412dec7d3d02c9b0b1c3d1c3571c5c</td>\n",
       "      <td>ggstop</td>\n",
       "    </tr>\n",
       "  </tbody>\n",
       "</table>\n",
       "</div>"
      ],
      "text/plain": [
       "       game_id                  timestamp                               ai5    event\n",
       "3     10655437 2016-05-09 02:00:00.041006  17412dec7d3d02c9b0b1c3d1c3571c5c   ggstop\n",
       "5     10655437 2016-05-09 02:00:00.084916  17412dec7d3d02c9b0b1c3d1c3571c5c  ggstart\n",
       "3275  10655437 2016-05-09 02:01:25.783037  17412dec7d3d02c9b0b1c3d1c3571c5c   ggstop"
      ]
     },
     "execution_count": 39,
     "metadata": {},
     "output_type": "execute_result"
    }
   ],
   "source": [
    "df_set2"
   ]
  },
  {
   "cell_type": "code",
   "execution_count": 40,
   "metadata": {
    "collapsed": false
   },
   "outputs": [
    {
     "name": "stderr",
     "output_type": "stream",
     "text": [
      "//anaconda/lib/python3.5/site-packages/pandas/core/indexing.py:266: SettingWithCopyWarning: \n",
      "A value is trying to be set on a copy of a slice from a DataFrame.\n",
      "Try using .loc[row_indexer,col_indexer] = value instead\n",
      "\n",
      "See the caveats in the documentation: http://pandas.pydata.org/pandas-docs/stable/indexing.html#indexing-view-versus-copy\n",
      "  self.obj[key] = _infer_fill_value(value)\n",
      "//anaconda/lib/python3.5/site-packages/pandas/core/indexing.py:426: SettingWithCopyWarning: \n",
      "A value is trying to be set on a copy of a slice from a DataFrame.\n",
      "Try using .loc[row_indexer,col_indexer] = value instead\n",
      "\n",
      "See the caveats in the documentation: http://pandas.pydata.org/pandas-docs/stable/indexing.html#indexing-view-versus-copy\n",
      "  self.obj[item] = s\n",
      "//anaconda/lib/python3.5/site-packages/pandas/core/generic.py:2387: SettingWithCopyWarning: \n",
      "A value is trying to be set on a copy of a slice from a DataFrame.\n",
      "Try using .loc[row_indexer,col_indexer] = value instead\n",
      "\n",
      "See the caveats in the documentation: http://pandas.pydata.org/pandas-docs/stable/indexing.html#indexing-view-versus-copy\n",
      "  self[name] = value\n"
     ]
    },
    {
     "data": {
      "text/plain": [
       "[85.0]"
      ]
     },
     "execution_count": 40,
     "metadata": {},
     "output_type": "execute_result"
    }
   ],
   "source": [
    "calc(df_set2)"
   ]
  },
  {
   "cell_type": "code",
   "execution_count": 41,
   "metadata": {
    "collapsed": true
   },
   "outputs": [],
   "source": [
    "#set3= ['18121481','e8ebfc3f39512eda3aa0702b13ffed63']\n",
    "df_set3 = df_analysis[(df_analysis.game_id=='18121481')&(df_analysis.ai5=='e8ebfc3f39512eda3aa0702b13ffed63')]"
   ]
  },
  {
   "cell_type": "code",
   "execution_count": 42,
   "metadata": {
    "collapsed": false
   },
   "outputs": [
    {
     "data": {
      "text/html": [
       "<div>\n",
       "<table border=\"1\" class=\"dataframe\">\n",
       "  <thead>\n",
       "    <tr style=\"text-align: right;\">\n",
       "      <th></th>\n",
       "      <th>game_id</th>\n",
       "      <th>timestamp</th>\n",
       "      <th>ai5</th>\n",
       "      <th>event</th>\n",
       "    </tr>\n",
       "  </thead>\n",
       "  <tbody>\n",
       "    <tr>\n",
       "      <th>8</th>\n",
       "      <td>18121481</td>\n",
       "      <td>2016-05-09 02:00:00.105905</td>\n",
       "      <td>e8ebfc3f39512eda3aa0702b13ffed63</td>\n",
       "      <td>ggstart</td>\n",
       "    </tr>\n",
       "    <tr>\n",
       "      <th>54</th>\n",
       "      <td>18121481</td>\n",
       "      <td>2016-05-09 02:00:01.724547</td>\n",
       "      <td>e8ebfc3f39512eda3aa0702b13ffed63</td>\n",
       "      <td>ggstop</td>\n",
       "    </tr>\n",
       "    <tr>\n",
       "      <th>483</th>\n",
       "      <td>18121481</td>\n",
       "      <td>2016-05-09 02:00:12.798309</td>\n",
       "      <td>e8ebfc3f39512eda3aa0702b13ffed63</td>\n",
       "      <td>ggstart</td>\n",
       "    </tr>\n",
       "    <tr>\n",
       "      <th>9671</th>\n",
       "      <td>18121481</td>\n",
       "      <td>2016-05-09 02:04:04.279836</td>\n",
       "      <td>e8ebfc3f39512eda3aa0702b13ffed63</td>\n",
       "      <td>ggstop</td>\n",
       "    </tr>\n",
       "    <tr>\n",
       "      <th>9783</th>\n",
       "      <td>18121481</td>\n",
       "      <td>2016-05-09 02:04:06.763143</td>\n",
       "      <td>e8ebfc3f39512eda3aa0702b13ffed63</td>\n",
       "      <td>ggstart</td>\n",
       "    </tr>\n",
       "    <tr>\n",
       "      <th>11161</th>\n",
       "      <td>18121481</td>\n",
       "      <td>2016-05-09 02:04:43.965911</td>\n",
       "      <td>e8ebfc3f39512eda3aa0702b13ffed63</td>\n",
       "      <td>ggstop</td>\n",
       "    </tr>\n",
       "    <tr>\n",
       "      <th>11179</th>\n",
       "      <td>18121481</td>\n",
       "      <td>2016-05-09 02:04:44.434762</td>\n",
       "      <td>e8ebfc3f39512eda3aa0702b13ffed63</td>\n",
       "      <td>ggstop</td>\n",
       "    </tr>\n",
       "    <tr>\n",
       "      <th>11188</th>\n",
       "      <td>18121481</td>\n",
       "      <td>2016-05-09 02:04:44.626066</td>\n",
       "      <td>e8ebfc3f39512eda3aa0702b13ffed63</td>\n",
       "      <td>ggstart</td>\n",
       "    </tr>\n",
       "    <tr>\n",
       "      <th>11635</th>\n",
       "      <td>18121481</td>\n",
       "      <td>2016-05-09 02:04:55.207604</td>\n",
       "      <td>e8ebfc3f39512eda3aa0702b13ffed63</td>\n",
       "      <td>ggstart</td>\n",
       "    </tr>\n",
       "    <tr>\n",
       "      <th>34175</th>\n",
       "      <td>18121481</td>\n",
       "      <td>2016-05-09 02:13:59.359081</td>\n",
       "      <td>e8ebfc3f39512eda3aa0702b13ffed63</td>\n",
       "      <td>ggstop</td>\n",
       "    </tr>\n",
       "  </tbody>\n",
       "</table>\n",
       "</div>"
      ],
      "text/plain": [
       "        game_id                  timestamp                               ai5    event\n",
       "8      18121481 2016-05-09 02:00:00.105905  e8ebfc3f39512eda3aa0702b13ffed63  ggstart\n",
       "54     18121481 2016-05-09 02:00:01.724547  e8ebfc3f39512eda3aa0702b13ffed63   ggstop\n",
       "483    18121481 2016-05-09 02:00:12.798309  e8ebfc3f39512eda3aa0702b13ffed63  ggstart\n",
       "9671   18121481 2016-05-09 02:04:04.279836  e8ebfc3f39512eda3aa0702b13ffed63   ggstop\n",
       "9783   18121481 2016-05-09 02:04:06.763143  e8ebfc3f39512eda3aa0702b13ffed63  ggstart\n",
       "11161  18121481 2016-05-09 02:04:43.965911  e8ebfc3f39512eda3aa0702b13ffed63   ggstop\n",
       "11179  18121481 2016-05-09 02:04:44.434762  e8ebfc3f39512eda3aa0702b13ffed63   ggstop\n",
       "11188  18121481 2016-05-09 02:04:44.626066  e8ebfc3f39512eda3aa0702b13ffed63  ggstart\n",
       "11635  18121481 2016-05-09 02:04:55.207604  e8ebfc3f39512eda3aa0702b13ffed63  ggstart\n",
       "34175  18121481 2016-05-09 02:13:59.359081  e8ebfc3f39512eda3aa0702b13ffed63   ggstop"
      ]
     },
     "execution_count": 42,
     "metadata": {},
     "output_type": "execute_result"
    }
   ],
   "source": [
    "df_set3"
   ]
  },
  {
   "cell_type": "code",
   "execution_count": 43,
   "metadata": {
    "collapsed": false
   },
   "outputs": [
    {
     "name": "stderr",
     "output_type": "stream",
     "text": [
      "//anaconda/lib/python3.5/site-packages/pandas/core/indexing.py:266: SettingWithCopyWarning: \n",
      "A value is trying to be set on a copy of a slice from a DataFrame.\n",
      "Try using .loc[row_indexer,col_indexer] = value instead\n",
      "\n",
      "See the caveats in the documentation: http://pandas.pydata.org/pandas-docs/stable/indexing.html#indexing-view-versus-copy\n",
      "  self.obj[key] = _infer_fill_value(value)\n",
      "//anaconda/lib/python3.5/site-packages/pandas/core/indexing.py:426: SettingWithCopyWarning: \n",
      "A value is trying to be set on a copy of a slice from a DataFrame.\n",
      "Try using .loc[row_indexer,col_indexer] = value instead\n",
      "\n",
      "See the caveats in the documentation: http://pandas.pydata.org/pandas-docs/stable/indexing.html#indexing-view-versus-copy\n",
      "  self.obj[item] = s\n",
      "//anaconda/lib/python3.5/site-packages/pandas/core/generic.py:2387: SettingWithCopyWarning: \n",
      "A value is trying to be set on a copy of a slice from a DataFrame.\n",
      "Try using .loc[row_indexer,col_indexer] = value instead\n",
      "\n",
      "See the caveats in the documentation: http://pandas.pydata.org/pandas-docs/stable/indexing.html#indexing-view-versus-copy\n",
      "  self[name] = value\n"
     ]
    },
    {
     "data": {
      "text/plain": [
       "[818.0]"
      ]
     },
     "execution_count": 43,
     "metadata": {},
     "output_type": "execute_result"
    }
   ],
   "source": [
    "calc(df_set3)"
   ]
  },
  {
   "cell_type": "markdown",
   "metadata": {},
   "source": [
    "### All the three sets give correct result."
   ]
  },
  {
   "cell_type": "markdown",
   "metadata": {},
   "source": [
    "# LET'S GROUP OUR DATA BASED ON (GAME_ID, AI5):"
   ]
  },
  {
   "cell_type": "code",
   "execution_count": null,
   "metadata": {
    "collapsed": true
   },
   "outputs": [],
   "source": [
    "# If we run the below function. We'll get the list of sessions \n",
    "def main_dict_function(df_analysis):\n",
    "    #MAKING GROUPING OF DATAFRAME BASED ON GAME_ID AND DEVICE_ID-\n",
    "    df_ana_group = df_analysis.groupby(['game_id','ai5'])\n",
    "    return_dict = df_ana_group.apply(lambda x:calc(x))\n",
    "    return return_dict"
   ]
  },
  {
   "cell_type": "markdown",
   "metadata": {},
   "source": [
    "## From this main dict: we can do any sort of analysis for game_id or user_id.\n",
    "\n",
    "\n",
    "### I didn't do the remaining part as above computation is quite heavy. But from here our first 2 problems are straight forward."
   ]
  },
  {
   "cell_type": "code",
   "execution_count": null,
   "metadata": {
    "collapsed": true
   },
   "outputs": [],
   "source": []
  }
 ],
 "metadata": {
  "kernelspec": {
   "display_name": "Python 3",
   "language": "python",
   "name": "python3"
  },
  "language_info": {
   "codemirror_mode": {
    "name": "ipython",
    "version": 3
   },
   "file_extension": ".py",
   "mimetype": "text/x-python",
   "name": "python",
   "nbconvert_exporter": "python",
   "pygments_lexer": "ipython3",
   "version": "3.5.1"
  }
 },
 "nbformat": 4,
 "nbformat_minor": 0
}
